{
 "cells": [
  {
   "cell_type": "markdown",
   "id": "a3ffd2ae",
   "metadata": {},
   "source": [
    "# Derivadas\n",
    "\n",
    "> $$\\frac{dY}{dt} = V_Y$$\n",
    ">\n",
    "> $$\\frac{d{V_Y}}{dt} = \\frac{\\frac{1}{2}\\rho \\ C_DAV_Y^2-mg}{m}$$"
   ]
  },
  {
   "cell_type": "code",
   "execution_count": 4,
   "id": "66973f0a",
   "metadata": {},
   "outputs": [],
   "source": [
    "from scipy.integrate import odeint\n",
    "from numpy import arange\n",
    "import matplotlib.pyplot as plt\n",
    "from math import pi"
   ]
  },
  {
   "cell_type": "code",
   "execution_count": 5,
   "id": "eac3880d",
   "metadata": {},
   "outputs": [],
   "source": [
    "rho = 1.19799  # kg/m³\n",
    "cd = 1.6\n",
    "A = pi * (45e-2/2)**2  # m³\n",
    "m = 3  # kg\n",
    "g = 10  # m/s²\n",
    "\n",
    "t0s = [11,0]\n",
    "dt = 1e-2\n",
    "tf = 10\n",
    "tempo = arange(0,tf,dt)"
   ]
  },
  {
   "cell_type": "code",
   "execution_count": null,
   "id": "44878676",
   "metadata": {},
   "outputs": [],
   "source": [
    "def modelo(dts,t):\n",
    "    x = dts[0]\n",
    "    vx = dts[1]"
   ]
  },
  {
   "cell_type": "code",
   "execution_count": null,
   "id": "1832fa27",
   "metadata": {},
   "outputs": [],
   "source": []
  }
 ],
 "metadata": {
  "kernelspec": {
   "display_name": "Python 3 (ipykernel)",
   "language": "python",
   "name": "python3"
  },
  "language_info": {
   "codemirror_mode": {
    "name": "ipython",
    "version": 3
   },
   "file_extension": ".py",
   "mimetype": "text/x-python",
   "name": "python",
   "nbconvert_exporter": "python",
   "pygments_lexer": "ipython3",
   "version": "3.11.5"
  }
 },
 "nbformat": 4,
 "nbformat_minor": 5
}
